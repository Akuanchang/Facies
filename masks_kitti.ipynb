# https://gist.github.com/DrSleep/4bce37254c5900545e6b65f6a0858b9c
import tensorflow as tf
from PIL import Image
from tqdm import tqdm
import numpy as np
arr = Image.open('rwth_kitti_semantics_dataset/labels/06_000800.png')
arr
np.array(arr).shape
#
arr = np.array(arr)
dt = np.dtype(['a', arr.dtype), ('b', arr.dtype), ('c', arr.dtype)])
y = arr.view(dtype=dt).squeeze()
#
np.unique(y)
## convert labels from RGB
